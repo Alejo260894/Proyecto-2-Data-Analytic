{
 "cells": [
  {
   "cell_type": "code",
   "execution_count": 153,
   "metadata": {},
   "outputs": [],
   "source": [
    "#Importe de las librerías a usar\n",
    "import pandas as pd\n",
    "import matplotlib.pyplot as plt\n",
    "import numpy as np\n",
    "import statsmodels.api as sm\n",
    "from datetime import date\n",
    "import seaborn as sns"
   ]
  },
  {
   "cell_type": "code",
   "execution_count": 154,
   "metadata": {},
   "outputs": [],
   "source": [
    "#Extraigo los libros a utilizar en df\n",
    "archivo = 'homicidios.xlsx'\n",
    "df_victimas = pd.read_excel(archivo, sheet_name='VICTIMAS')\n",
    "df_hechos = pd.read_excel(archivo, 'HECHOS')"
   ]
  },
  {
   "cell_type": "code",
   "execution_count": 155,
   "metadata": {},
   "outputs": [
    {
     "name": "stdout",
     "output_type": "stream",
     "text": [
      "<class 'pandas.core.frame.DataFrame'>\n",
      "RangeIndex: 717 entries, 0 to 716\n",
      "Data columns (total 10 columns):\n",
      " #   Column               Non-Null Count  Dtype         \n",
      "---  ------               --------------  -----         \n",
      " 0   ID_hecho             717 non-null    object        \n",
      " 1   FECHA                717 non-null    datetime64[ns]\n",
      " 2   AAAA                 717 non-null    int64         \n",
      " 3   MM                   717 non-null    int64         \n",
      " 4   DD                   717 non-null    int64         \n",
      " 5   ROL                  717 non-null    object        \n",
      " 6   VICTIMA              717 non-null    object        \n",
      " 7   SEXO                 717 non-null    object        \n",
      " 8   EDAD                 717 non-null    object        \n",
      " 9   FECHA_FALLECIMIENTO  717 non-null    object        \n",
      "dtypes: datetime64[ns](1), int64(3), object(6)\n",
      "memory usage: 56.1+ KB\n"
     ]
    }
   ],
   "source": [
    "df_victimas.info()"
   ]
  },
  {
   "cell_type": "code",
   "execution_count": 156,
   "metadata": {},
   "outputs": [
    {
     "name": "stdout",
     "output_type": "stream",
     "text": [
      "<class 'pandas.core.frame.DataFrame'>\n",
      "RangeIndex: 696 entries, 0 to 695\n",
      "Data columns (total 21 columns):\n",
      " #   Column                 Non-Null Count  Dtype         \n",
      "---  ------                 --------------  -----         \n",
      " 0   ID                     696 non-null    object        \n",
      " 1   N_VICTIMAS             696 non-null    int64         \n",
      " 2   FECHA                  696 non-null    datetime64[ns]\n",
      " 3   AAAA                   696 non-null    int64         \n",
      " 4   MM                     696 non-null    int64         \n",
      " 5   DD                     696 non-null    int64         \n",
      " 6   HORA                   696 non-null    object        \n",
      " 7   HH                     696 non-null    object        \n",
      " 8   LUGAR_DEL_HECHO        696 non-null    object        \n",
      " 9   TIPO_DE_CALLE          696 non-null    object        \n",
      " 10  Calle                  695 non-null    object        \n",
      " 11  Altura                 129 non-null    float64       \n",
      " 12  Cruce                  525 non-null    object        \n",
      " 13  Dirección Normalizada  688 non-null    object        \n",
      " 14  COMUNA                 696 non-null    int64         \n",
      " 15  XY (CABA)              696 non-null    object        \n",
      " 16  pos x                  696 non-null    object        \n",
      " 17  pos y                  696 non-null    object        \n",
      " 18  PARTICIPANTES          696 non-null    object        \n",
      " 19  VICTIMA                696 non-null    object        \n",
      " 20  ACUSADO                696 non-null    object        \n",
      "dtypes: datetime64[ns](1), float64(1), int64(5), object(14)\n",
      "memory usage: 114.3+ KB\n"
     ]
    }
   ],
   "source": [
    "df_hechos.info()"
   ]
  },
  {
   "cell_type": "code",
   "execution_count": 157,
   "metadata": {},
   "outputs": [],
   "source": [
    "#renombramos la columna ID_hecho para usarla como parametro\n",
    "df_victimas=df_victimas.rename(columns={'ID_hecho':'ID'})"
   ]
  },
  {
   "cell_type": "code",
   "execution_count": 158,
   "metadata": {},
   "outputs": [],
   "source": [
    "combinado = df_hechos.merge(df_victimas, on='ID', how='inner')"
   ]
  },
  {
   "cell_type": "markdown",
   "metadata": {},
   "source": [
    "### Al haber datos repetidos se verifica cuales son y son eliminados:"
   ]
  },
  {
   "cell_type": "code",
   "execution_count": 159,
   "metadata": {},
   "outputs": [
    {
     "name": "stdout",
     "output_type": "stream",
     "text": [
      "Pares de columnas iguales:\n",
      "AAAA_x y AAAA_y son iguales\n",
      "MM_x y MM_y son iguales\n",
      "AAAA_y y AAAA_x son iguales\n",
      "MM_y y MM_x son iguales\n"
     ]
    }
   ],
   "source": [
    "def encontrar_columnas_diferentes(df):\n",
    "\n",
    "    columnas_diferentes = []\n",
    "    columnas_iguales = []\n",
    "\n",
    "    for columna1 in df.columns:\n",
    "        for columna2 in df.columns:\n",
    "            if columna1 != columna2:\n",
    "                if (df[columna1] == df[columna2]).all():\n",
    "                    columnas_iguales.append((columna1, columna2))\n",
    "                elif not (df[columna1] == df[columna2]).all():\n",
    "                    columnas_diferentes.append((columna1, columna2))\n",
    "\n",
    "    return columnas_iguales, columnas_diferentes\n",
    "\n",
    "# Ejemplo de uso con tus columnas\n",
    "columnas_iguales, columnas_diferentes = encontrar_columnas_diferentes(combinado[combinado.columns])\n",
    "\n",
    "print(\"Pares de columnas iguales:\")\n",
    "for columna1, columna2 in columnas_iguales:\n",
    "    print(f\"{columna1} y {columna2} son iguales\")"
   ]
  },
  {
   "cell_type": "code",
   "execution_count": 160,
   "metadata": {},
   "outputs": [],
   "source": [
    "# Se encontraron 2 columnas con el mismo contenido, se realiza el drop a una de ellas:\n",
    "combinado = combinado.drop(['AAAA_y','MM_y'],axis=1)"
   ]
  },
  {
   "cell_type": "code",
   "execution_count": 161,
   "metadata": {},
   "outputs": [],
   "source": [
    "# Sin embargo entre las columnas de los dataframes existian otras columnas con el mismo nombre, así que se comprueba qué es lo que esta causando estas diferencias,\n",
    "# para eso se crea una función que devuelve los índices con anomalias.\n",
    "\n",
    "indices=[]\n",
    "for index, row  in combinado[['FECHA_x','FECHA_y', 'DD_x','DD_y', 'VICTIMA_x',  'VICTIMA_y']].iterrows():\n",
    "\n",
    "    if row['FECHA_x'] !=row['FECHA_y']:\n",
    "        indices.append(index)\n",
    "\n",
    "\n",
    "    if row['DD_x'] !=row['DD_y']:\n",
    "        indices.append(index)\n",
    "    if row['VICTIMA_x'] !=row['VICTIMA_y']:\n",
    "        indices.append(index)"
   ]
  },
  {
   "cell_type": "code",
   "execution_count": 162,
   "metadata": {},
   "outputs": [
    {
     "data": {
      "text/html": [
       "<div>\n",
       "<style scoped>\n",
       "    .dataframe tbody tr th:only-of-type {\n",
       "        vertical-align: middle;\n",
       "    }\n",
       "\n",
       "    .dataframe tbody tr th {\n",
       "        vertical-align: top;\n",
       "    }\n",
       "\n",
       "    .dataframe thead th {\n",
       "        text-align: right;\n",
       "    }\n",
       "</style>\n",
       "<table border=\"1\" class=\"dataframe\">\n",
       "  <thead>\n",
       "    <tr style=\"text-align: right;\">\n",
       "      <th></th>\n",
       "      <th>FECHA_x</th>\n",
       "      <th>FECHA_y</th>\n",
       "      <th>DD_x</th>\n",
       "      <th>DD_y</th>\n",
       "      <th>VICTIMA_x</th>\n",
       "      <th>ACUSADO</th>\n",
       "      <th>VICTIMA_y</th>\n",
       "      <th>FECHA_FALLECIMIENTO</th>\n",
       "    </tr>\n",
       "  </thead>\n",
       "  <tbody>\n",
       "    <tr>\n",
       "      <th>65</th>\n",
       "      <td>2016-07-02</td>\n",
       "      <td>2016-07-03</td>\n",
       "      <td>3</td>\n",
       "      <td>3</td>\n",
       "      <td>MOTO</td>\n",
       "      <td>OBJETO FIJO</td>\n",
       "      <td>MOTO</td>\n",
       "      <td>2016-07-03 00:00:00</td>\n",
       "    </tr>\n",
       "    <tr>\n",
       "      <th>204</th>\n",
       "      <td>2017-05-24</td>\n",
       "      <td>2017-05-29</td>\n",
       "      <td>24</td>\n",
       "      <td>29</td>\n",
       "      <td>MOTO</td>\n",
       "      <td>SD</td>\n",
       "      <td>MOTO</td>\n",
       "      <td>2017-05-29 00:00:00</td>\n",
       "    </tr>\n",
       "    <tr>\n",
       "      <th>204</th>\n",
       "      <td>2017-05-24</td>\n",
       "      <td>2017-05-29</td>\n",
       "      <td>24</td>\n",
       "      <td>29</td>\n",
       "      <td>MOTO</td>\n",
       "      <td>SD</td>\n",
       "      <td>MOTO</td>\n",
       "      <td>2017-05-29 00:00:00</td>\n",
       "    </tr>\n",
       "    <tr>\n",
       "      <th>237</th>\n",
       "      <td>2017-09-02</td>\n",
       "      <td>2017-09-02</td>\n",
       "      <td>2</td>\n",
       "      <td>2</td>\n",
       "      <td>OBJETO FIJO</td>\n",
       "      <td>AUTO</td>\n",
       "      <td>AUTO</td>\n",
       "      <td>2017-09-02 00:00:00</td>\n",
       "    </tr>\n",
       "    <tr>\n",
       "      <th>238</th>\n",
       "      <td>2017-09-02</td>\n",
       "      <td>2017-09-02</td>\n",
       "      <td>2</td>\n",
       "      <td>2</td>\n",
       "      <td>OBJETO FIJO</td>\n",
       "      <td>AUTO</td>\n",
       "      <td>AUTO</td>\n",
       "      <td>2017-09-02 00:00:00</td>\n",
       "    </tr>\n",
       "    <tr>\n",
       "      <th>602</th>\n",
       "      <td>2020-12-05</td>\n",
       "      <td>2020-12-05</td>\n",
       "      <td>5</td>\n",
       "      <td>5</td>\n",
       "      <td>PEATON_MOTO</td>\n",
       "      <td>MOTO</td>\n",
       "      <td>PEATON</td>\n",
       "      <td>2020-12-05 00:00:00</td>\n",
       "    </tr>\n",
       "    <tr>\n",
       "      <th>603</th>\n",
       "      <td>2020-12-05</td>\n",
       "      <td>2020-12-05</td>\n",
       "      <td>5</td>\n",
       "      <td>5</td>\n",
       "      <td>PEATON_MOTO</td>\n",
       "      <td>MOTO</td>\n",
       "      <td>MOTO</td>\n",
       "      <td>2020-12-05 00:00:00</td>\n",
       "    </tr>\n",
       "  </tbody>\n",
       "</table>\n",
       "</div>"
      ],
      "text/plain": [
       "       FECHA_x    FECHA_y  DD_x  DD_y    VICTIMA_x      ACUSADO VICTIMA_y  \\\n",
       "65  2016-07-02 2016-07-03     3     3         MOTO  OBJETO FIJO      MOTO   \n",
       "204 2017-05-24 2017-05-29    24    29         MOTO           SD      MOTO   \n",
       "204 2017-05-24 2017-05-29    24    29         MOTO           SD      MOTO   \n",
       "237 2017-09-02 2017-09-02     2     2  OBJETO FIJO         AUTO      AUTO   \n",
       "238 2017-09-02 2017-09-02     2     2  OBJETO FIJO         AUTO      AUTO   \n",
       "602 2020-12-05 2020-12-05     5     5  PEATON_MOTO         MOTO    PEATON   \n",
       "603 2020-12-05 2020-12-05     5     5  PEATON_MOTO         MOTO      MOTO   \n",
       "\n",
       "     FECHA_FALLECIMIENTO  \n",
       "65   2016-07-03 00:00:00  \n",
       "204  2017-05-29 00:00:00  \n",
       "204  2017-05-29 00:00:00  \n",
       "237  2017-09-02 00:00:00  \n",
       "238  2017-09-02 00:00:00  \n",
       "602  2020-12-05 00:00:00  \n",
       "603  2020-12-05 00:00:00  "
      ]
     },
     "execution_count": 162,
     "metadata": {},
     "output_type": "execute_result"
    }
   ],
   "source": [
    "# Se muestran solo los indices y las columnas que deberian ser iguales, esto, en los indices que arrojó la funcion.\n",
    "combinado[['FECHA_x','FECHA_y', 'DD_x','DD_y', 'VICTIMA_x','ACUSADO',  'VICTIMA_y','FECHA_FALLECIMIENTO' ]].iloc[indices]"
   ]
  },
  {
   "cell_type": "code",
   "execution_count": 163,
   "metadata": {},
   "outputs": [],
   "source": [
    "# Entre las fechas encontramos que hay ciertas diferencias porque al parecer en la columna fecha proviniente de el archivo victimas corresponde a la fecha de fallecimiento \n",
    "#y no a la fecha del suceso, por lo tanto decido quedarme la fecha que de verdad es relevante para el estudio actual que es la fecha del suceso.\n",
    "combinado = combinado.drop(['FECHA_y','DD_y'],axis=1)"
   ]
  },
  {
   "cell_type": "code",
   "execution_count": 164,
   "metadata": {},
   "outputs": [
    {
     "data": {
      "text/html": [
       "<div>\n",
       "<style scoped>\n",
       "    .dataframe tbody tr th:only-of-type {\n",
       "        vertical-align: middle;\n",
       "    }\n",
       "\n",
       "    .dataframe tbody tr th {\n",
       "        vertical-align: top;\n",
       "    }\n",
       "\n",
       "    .dataframe thead th {\n",
       "        text-align: right;\n",
       "    }\n",
       "</style>\n",
       "<table border=\"1\" class=\"dataframe\">\n",
       "  <thead>\n",
       "    <tr style=\"text-align: right;\">\n",
       "      <th></th>\n",
       "      <th>ID</th>\n",
       "      <th>N_VICTIMAS</th>\n",
       "      <th>FECHA_x</th>\n",
       "      <th>AAAA_x</th>\n",
       "      <th>MM_x</th>\n",
       "      <th>DD_x</th>\n",
       "      <th>HORA</th>\n",
       "      <th>HH</th>\n",
       "      <th>LUGAR_DEL_HECHO</th>\n",
       "      <th>TIPO_DE_CALLE</th>\n",
       "      <th>...</th>\n",
       "      <th>pos x</th>\n",
       "      <th>pos y</th>\n",
       "      <th>PARTICIPANTES</th>\n",
       "      <th>VICTIMA_x</th>\n",
       "      <th>ACUSADO</th>\n",
       "      <th>ROL</th>\n",
       "      <th>VICTIMA_y</th>\n",
       "      <th>SEXO</th>\n",
       "      <th>EDAD</th>\n",
       "      <th>FECHA_FALLECIMIENTO</th>\n",
       "    </tr>\n",
       "  </thead>\n",
       "  <tbody>\n",
       "    <tr>\n",
       "      <th>237</th>\n",
       "      <td>2017-0108</td>\n",
       "      <td>2</td>\n",
       "      <td>2017-09-02</td>\n",
       "      <td>2017</td>\n",
       "      <td>9</td>\n",
       "      <td>2</td>\n",
       "      <td>04:53:08</td>\n",
       "      <td>4</td>\n",
       "      <td>AV. GRAL. PAZ Y MACHAIN</td>\n",
       "      <td>GRAL PAZ</td>\n",
       "      <td>...</td>\n",
       "      <td>-58.49491054</td>\n",
       "      <td>-34.54795581</td>\n",
       "      <td>AUTO-OBJETO FIJO</td>\n",
       "      <td>OBJETO FIJO</td>\n",
       "      <td>AUTO</td>\n",
       "      <td>PASAJERO_ACOMPAÑANTE</td>\n",
       "      <td>AUTO</td>\n",
       "      <td>MASCULINO</td>\n",
       "      <td>17</td>\n",
       "      <td>2017-09-02 00:00:00</td>\n",
       "    </tr>\n",
       "    <tr>\n",
       "      <th>238</th>\n",
       "      <td>2017-0108</td>\n",
       "      <td>2</td>\n",
       "      <td>2017-09-02</td>\n",
       "      <td>2017</td>\n",
       "      <td>9</td>\n",
       "      <td>2</td>\n",
       "      <td>04:53:08</td>\n",
       "      <td>4</td>\n",
       "      <td>AV. GRAL. PAZ Y MACHAIN</td>\n",
       "      <td>GRAL PAZ</td>\n",
       "      <td>...</td>\n",
       "      <td>-58.49491054</td>\n",
       "      <td>-34.54795581</td>\n",
       "      <td>AUTO-OBJETO FIJO</td>\n",
       "      <td>OBJETO FIJO</td>\n",
       "      <td>AUTO</td>\n",
       "      <td>PASAJERO_ACOMPAÑANTE</td>\n",
       "      <td>AUTO</td>\n",
       "      <td>MASCULINO</td>\n",
       "      <td>10</td>\n",
       "      <td>2017-09-02 00:00:00</td>\n",
       "    </tr>\n",
       "  </tbody>\n",
       "</table>\n",
       "<p>2 rows × 26 columns</p>\n",
       "</div>"
      ],
      "text/plain": [
       "            ID  N_VICTIMAS    FECHA_x  AAAA_x  MM_x  DD_x      HORA HH  \\\n",
       "237  2017-0108           2 2017-09-02    2017     9     2  04:53:08  4   \n",
       "238  2017-0108           2 2017-09-02    2017     9     2  04:53:08  4   \n",
       "\n",
       "             LUGAR_DEL_HECHO TIPO_DE_CALLE  ...         pos x         pos y  \\\n",
       "237  AV. GRAL. PAZ Y MACHAIN      GRAL PAZ  ...  -58.49491054  -34.54795581   \n",
       "238  AV. GRAL. PAZ Y MACHAIN      GRAL PAZ  ...  -58.49491054  -34.54795581   \n",
       "\n",
       "        PARTICIPANTES    VICTIMA_x  ACUSADO                   ROL VICTIMA_y  \\\n",
       "237  AUTO-OBJETO FIJO  OBJETO FIJO     AUTO  PASAJERO_ACOMPAÑANTE      AUTO   \n",
       "238  AUTO-OBJETO FIJO  OBJETO FIJO     AUTO  PASAJERO_ACOMPAÑANTE      AUTO   \n",
       "\n",
       "          SEXO EDAD  FECHA_FALLECIMIENTO  \n",
       "237  MASCULINO   17  2017-09-02 00:00:00  \n",
       "238  MASCULINO   10  2017-09-02 00:00:00  \n",
       "\n",
       "[2 rows x 26 columns]"
      ]
     },
     "execution_count": 164,
     "metadata": {},
     "output_type": "execute_result"
    }
   ],
   "source": [
    "# Verificando los valores distintos para las columnas victimas vemos que en la columna vctima proviniente del archivo hechos se da por victima a un objeto fijo y \n",
    "#por acusado a un AUTO lo que es incoherente con la definicion de victima dada por el dataset es la siguente: Vehículo que ocupaba quien haya fallecido a se haya \n",
    "#lastimado a raíz del hecho, o bien peatón/a. Clasificación agregada del tipo de vehículos.\n",
    "#y en el apartado de victima no esta definido el objeto fijo como una victima posible\n",
    "combinado[combinado['VICTIMA_x']=='OBJETO FIJO']"
   ]
  },
  {
   "cell_type": "code",
   "execution_count": 165,
   "metadata": {},
   "outputs": [],
   "source": [
    "# Esto solo pasa para este hecho asi que se confirma que se debe a un error por lo que se procedera a corregirse\n",
    "def columns_modifier(mode,DF,columns, value, replace=None):\n",
    "    df=DF.copy()\n",
    "    if mode == 'swap':\n",
    "        for index, row in df.iterrows():\n",
    "\n",
    "            value_1=row[columns[0]]\n",
    "            value_2=row[columns[1]]\n",
    "\n",
    "            if value_1== value:\n",
    "                temp=value_1\n",
    "                df.at[index, columns[0]] = value_2\n",
    "                df.at[index, columns[1]] = temp\n",
    "    if mode == 'replace':\n",
    "        for index, row in df.iterrows():\n",
    "            to_replace=row[columns[0]]\n",
    "\n",
    "            if to_replace == value:\n",
    "                df.at[index, columns[0]] = replace\n",
    "    \n",
    "    return df"
   ]
  },
  {
   "cell_type": "code",
   "execution_count": 166,
   "metadata": {},
   "outputs": [],
   "source": [
    "columns=['VICTIMA_x','ACUSADO']\n",
    "combinado=columns_modifier('swap',combinado,columns,'OBJETO FIJO')"
   ]
  },
  {
   "cell_type": "code",
   "execution_count": 167,
   "metadata": {},
   "outputs": [
    {
     "data": {
      "text/html": [
       "<div>\n",
       "<style scoped>\n",
       "    .dataframe tbody tr th:only-of-type {\n",
       "        vertical-align: middle;\n",
       "    }\n",
       "\n",
       "    .dataframe tbody tr th {\n",
       "        vertical-align: top;\n",
       "    }\n",
       "\n",
       "    .dataframe thead th {\n",
       "        text-align: right;\n",
       "    }\n",
       "</style>\n",
       "<table border=\"1\" class=\"dataframe\">\n",
       "  <thead>\n",
       "    <tr style=\"text-align: right;\">\n",
       "      <th></th>\n",
       "      <th>FECHA_x</th>\n",
       "      <th>DD_x</th>\n",
       "      <th>VICTIMA_x</th>\n",
       "      <th>ACUSADO</th>\n",
       "      <th>VICTIMA_y</th>\n",
       "      <th>FECHA_FALLECIMIENTO</th>\n",
       "    </tr>\n",
       "  </thead>\n",
       "  <tbody>\n",
       "    <tr>\n",
       "      <th>65</th>\n",
       "      <td>2016-07-02</td>\n",
       "      <td>3</td>\n",
       "      <td>MOTO</td>\n",
       "      <td>OBJETO FIJO</td>\n",
       "      <td>MOTO</td>\n",
       "      <td>2016-07-03 00:00:00</td>\n",
       "    </tr>\n",
       "    <tr>\n",
       "      <th>204</th>\n",
       "      <td>2017-05-24</td>\n",
       "      <td>24</td>\n",
       "      <td>MOTO</td>\n",
       "      <td>SD</td>\n",
       "      <td>MOTO</td>\n",
       "      <td>2017-05-29 00:00:00</td>\n",
       "    </tr>\n",
       "    <tr>\n",
       "      <th>204</th>\n",
       "      <td>2017-05-24</td>\n",
       "      <td>24</td>\n",
       "      <td>MOTO</td>\n",
       "      <td>SD</td>\n",
       "      <td>MOTO</td>\n",
       "      <td>2017-05-29 00:00:00</td>\n",
       "    </tr>\n",
       "    <tr>\n",
       "      <th>237</th>\n",
       "      <td>2017-09-02</td>\n",
       "      <td>2</td>\n",
       "      <td>AUTO</td>\n",
       "      <td>OBJETO FIJO</td>\n",
       "      <td>AUTO</td>\n",
       "      <td>2017-09-02 00:00:00</td>\n",
       "    </tr>\n",
       "    <tr>\n",
       "      <th>238</th>\n",
       "      <td>2017-09-02</td>\n",
       "      <td>2</td>\n",
       "      <td>AUTO</td>\n",
       "      <td>OBJETO FIJO</td>\n",
       "      <td>AUTO</td>\n",
       "      <td>2017-09-02 00:00:00</td>\n",
       "    </tr>\n",
       "    <tr>\n",
       "      <th>602</th>\n",
       "      <td>2020-12-05</td>\n",
       "      <td>5</td>\n",
       "      <td>PEATON_MOTO</td>\n",
       "      <td>MOTO</td>\n",
       "      <td>PEATON</td>\n",
       "      <td>2020-12-05 00:00:00</td>\n",
       "    </tr>\n",
       "    <tr>\n",
       "      <th>603</th>\n",
       "      <td>2020-12-05</td>\n",
       "      <td>5</td>\n",
       "      <td>PEATON_MOTO</td>\n",
       "      <td>MOTO</td>\n",
       "      <td>MOTO</td>\n",
       "      <td>2020-12-05 00:00:00</td>\n",
       "    </tr>\n",
       "  </tbody>\n",
       "</table>\n",
       "</div>"
      ],
      "text/plain": [
       "       FECHA_x  DD_x    VICTIMA_x      ACUSADO VICTIMA_y  FECHA_FALLECIMIENTO\n",
       "65  2016-07-02     3         MOTO  OBJETO FIJO      MOTO  2016-07-03 00:00:00\n",
       "204 2017-05-24    24         MOTO           SD      MOTO  2017-05-29 00:00:00\n",
       "204 2017-05-24    24         MOTO           SD      MOTO  2017-05-29 00:00:00\n",
       "237 2017-09-02     2         AUTO  OBJETO FIJO      AUTO  2017-09-02 00:00:00\n",
       "238 2017-09-02     2         AUTO  OBJETO FIJO      AUTO  2017-09-02 00:00:00\n",
       "602 2020-12-05     5  PEATON_MOTO         MOTO    PEATON  2020-12-05 00:00:00\n",
       "603 2020-12-05     5  PEATON_MOTO         MOTO      MOTO  2020-12-05 00:00:00"
      ]
     },
     "execution_count": 167,
     "metadata": {},
     "output_type": "execute_result"
    }
   ],
   "source": [
    "combinado[['FECHA_x', 'DD_x', 'VICTIMA_x','ACUSADO',  'VICTIMA_y','FECHA_FALLECIMIENTO' ]].iloc[indices]"
   ]
  },
  {
   "cell_type": "code",
   "execution_count": 168,
   "metadata": {},
   "outputs": [
    {
     "data": {
      "text/plain": [
       "[602, 603]"
      ]
     },
     "execution_count": 168,
     "metadata": {},
     "output_type": "execute_result"
    }
   ],
   "source": [
    "indices=[]\n",
    "for index, row  in combinado[['VICTIMA_x', 'VICTIMA_y']].iterrows():\n",
    "\n",
    "    if row['VICTIMA_x'] !=row['VICTIMA_y']:\n",
    "        indices.append(index)\n",
    "indices"
   ]
  },
  {
   "cell_type": "code",
   "execution_count": 169,
   "metadata": {},
   "outputs": [
    {
     "data": {
      "text/html": [
       "<div>\n",
       "<style scoped>\n",
       "    .dataframe tbody tr th:only-of-type {\n",
       "        vertical-align: middle;\n",
       "    }\n",
       "\n",
       "    .dataframe tbody tr th {\n",
       "        vertical-align: top;\n",
       "    }\n",
       "\n",
       "    .dataframe thead th {\n",
       "        text-align: right;\n",
       "    }\n",
       "</style>\n",
       "<table border=\"1\" class=\"dataframe\">\n",
       "  <thead>\n",
       "    <tr style=\"text-align: right;\">\n",
       "      <th></th>\n",
       "      <th>VICTIMA_x</th>\n",
       "      <th>VICTIMA_y</th>\n",
       "    </tr>\n",
       "  </thead>\n",
       "  <tbody>\n",
       "    <tr>\n",
       "      <th>602</th>\n",
       "      <td>PEATON_MOTO</td>\n",
       "      <td>PEATON</td>\n",
       "    </tr>\n",
       "    <tr>\n",
       "      <th>603</th>\n",
       "      <td>PEATON_MOTO</td>\n",
       "      <td>MOTO</td>\n",
       "    </tr>\n",
       "  </tbody>\n",
       "</table>\n",
       "</div>"
      ],
      "text/plain": [
       "       VICTIMA_x VICTIMA_y\n",
       "602  PEATON_MOTO    PEATON\n",
       "603  PEATON_MOTO      MOTO"
      ]
     },
     "execution_count": 169,
     "metadata": {},
     "output_type": "execute_result"
    }
   ],
   "source": [
    "combinado[[ 'VICTIMA_x',  'VICTIMA_y']].iloc[indices]"
   ]
  },
  {
   "cell_type": "code",
   "execution_count": 170,
   "metadata": {},
   "outputs": [],
   "source": [
    "# Ahora, ya que los únicos registros que son distintos en estas columnas son estos y podemos ver que una columna repite la misma información dos veces mientras \n",
    "# que la otra nos aporta informacion sobre cada victima, nos quedaremos con la columna VICTIMA_y que es la mas completa.\n",
    "combinado = combinado.drop(['VICTIMA_x'],axis=1)"
   ]
  },
  {
   "cell_type": "code",
   "execution_count": 171,
   "metadata": {},
   "outputs": [
    {
     "data": {
      "text/plain": [
       "Index(['ID', 'N_VICTIMAS', 'FECHA_x', 'AAAA_x', 'MM_x', 'DD_x', 'HORA', 'HH',\n",
       "       'LUGAR_DEL_HECHO', 'TIPO_DE_CALLE', 'Calle', 'Altura', 'Cruce',\n",
       "       'Dirección Normalizada', 'COMUNA', 'XY (CABA)', 'pos x', 'pos y',\n",
       "       'PARTICIPANTES', 'ACUSADO', 'ROL', 'VICTIMA_y', 'SEXO', 'EDAD',\n",
       "       'FECHA_FALLECIMIENTO'],\n",
       "      dtype='object')"
      ]
     },
     "execution_count": 171,
     "metadata": {},
     "output_type": "execute_result"
    }
   ],
   "source": [
    "combinado.columns\n"
   ]
  },
  {
   "cell_type": "code",
   "execution_count": 172,
   "metadata": {},
   "outputs": [],
   "source": [
    "combinado = combinado.rename(columns={'FECHA_x':'FECHA', 'AAAA_x':'AAAA', 'MM_x':'MM', 'DD_x':'DD', 'pos x':'Longitud','pos y':'Latitud', 'VICTIMA_y':'VICTIMA'})"
   ]
  },
  {
   "cell_type": "code",
   "execution_count": 173,
   "metadata": {},
   "outputs": [
    {
     "data": {
      "text/plain": [
       "761"
      ]
     },
     "execution_count": 173,
     "metadata": {},
     "output_type": "execute_result"
    }
   ],
   "source": [
    "#Revisando la columna numero de victimas se encuentra una incongruencia debido al merge ya que el numero de victimas total deberia ser 717 vicitmas\n",
    "#ya que esa es la  cantidad de registros en el archivo victimas\n",
    "combinado['N_VICTIMAS'].sum()"
   ]
  },
  {
   "cell_type": "code",
   "execution_count": 174,
   "metadata": {},
   "outputs": [],
   "source": [
    "#vemos que para solucionar esto basta con igualar la columna siempre a 1\n",
    "combinado['N_VICTIMAS']=1"
   ]
  },
  {
   "cell_type": "code",
   "execution_count": 175,
   "metadata": {},
   "outputs": [
    {
     "data": {
      "text/plain": [
       "717"
      ]
     },
     "execution_count": 175,
     "metadata": {},
     "output_type": "execute_result"
    }
   ],
   "source": [
    "combinado['N_VICTIMAS'].sum()"
   ]
  },
  {
   "cell_type": "code",
   "execution_count": 176,
   "metadata": {},
   "outputs": [],
   "source": [
    "def encontrar_valores(df, valor_a_encontrar):\n",
    "    resultados = []\n",
    "    \n",
    "    for columna in df.columns:\n",
    "        columnas_con_valores = []\n",
    "        indices_con_valores = []\n",
    "\n",
    "        for indice, valor in df[columna].items():\n",
    "            if valor == valor_a_encontrar:\n",
    "                columnas_con_valores.append(columna)\n",
    "                indices_con_valores.append(indice)\n",
    "        \n",
    "        if columnas_con_valores:\n",
    "            resultados.append({\n",
    "                'Columna': columna,\n",
    "                'Indices': indices_con_valores\n",
    "            })\n",
    "    \n",
    "    return resultados"
   ]
  },
  {
   "cell_type": "code",
   "execution_count": 177,
   "metadata": {},
   "outputs": [
    {
     "data": {
      "text/plain": [
       "[{'Columna': 'HORA', 'Indices': [536]},\n",
       " {'Columna': 'HH', 'Indices': [536]},\n",
       " {'Columna': 'LUGAR_DEL_HECHO', 'Indices': [121]},\n",
       " {'Columna': 'ACUSADO',\n",
       "  'Indices': [3,\n",
       "   33,\n",
       "   36,\n",
       "   39,\n",
       "   58,\n",
       "   77,\n",
       "   84,\n",
       "   93,\n",
       "   107,\n",
       "   114,\n",
       "   121,\n",
       "   128,\n",
       "   141,\n",
       "   162,\n",
       "   204,\n",
       "   208,\n",
       "   223,\n",
       "   409,\n",
       "   413,\n",
       "   457,\n",
       "   468,\n",
       "   475,\n",
       "   641]},\n",
       " {'Columna': 'ROL',\n",
       "  'Indices': [36, 39, 63, 77, 89, 141, 167, 208, 221, 280, 390]},\n",
       " {'Columna': 'VICTIMA', 'Indices': [36, 77, 89, 93, 141, 167, 208, 221, 280]},\n",
       " {'Columna': 'SEXO', 'Indices': [36, 39, 108, 121, 138, 141]},\n",
       " {'Columna': 'EDAD',\n",
       "  'Indices': [30,\n",
       "   33,\n",
       "   35,\n",
       "   36,\n",
       "   39,\n",
       "   55,\n",
       "   63,\n",
       "   72,\n",
       "   89,\n",
       "   93,\n",
       "   108,\n",
       "   119,\n",
       "   121,\n",
       "   138,\n",
       "   141,\n",
       "   142,\n",
       "   165,\n",
       "   176,\n",
       "   182,\n",
       "   225,\n",
       "   243,\n",
       "   275,\n",
       "   277,\n",
       "   299,\n",
       "   328,\n",
       "   359,\n",
       "   367,\n",
       "   371,\n",
       "   377,\n",
       "   391,\n",
       "   421,\n",
       "   444,\n",
       "   446,\n",
       "   454,\n",
       "   457,\n",
       "   461,\n",
       "   463,\n",
       "   469,\n",
       "   478,\n",
       "   497,\n",
       "   505,\n",
       "   528,\n",
       "   529,\n",
       "   548,\n",
       "   552,\n",
       "   555,\n",
       "   563,\n",
       "   572,\n",
       "   579,\n",
       "   631,\n",
       "   639,\n",
       "   647,\n",
       "   698]},\n",
       " {'Columna': 'FECHA_FALLECIMIENTO',\n",
       "  'Indices': [3,\n",
       "   16,\n",
       "   19,\n",
       "   22,\n",
       "   33,\n",
       "   35,\n",
       "   36,\n",
       "   39,\n",
       "   46,\n",
       "   48,\n",
       "   49,\n",
       "   51,\n",
       "   52,\n",
       "   55,\n",
       "   56,\n",
       "   57,\n",
       "   58,\n",
       "   59,\n",
       "   63,\n",
       "   72,\n",
       "   74,\n",
       "   75,\n",
       "   77,\n",
       "   78,\n",
       "   81,\n",
       "   82,\n",
       "   84,\n",
       "   87,\n",
       "   89,\n",
       "   91,\n",
       "   93,\n",
       "   95,\n",
       "   96,\n",
       "   97,\n",
       "   98,\n",
       "   99,\n",
       "   100,\n",
       "   103,\n",
       "   108,\n",
       "   109,\n",
       "   110,\n",
       "   111,\n",
       "   112,\n",
       "   114,\n",
       "   115,\n",
       "   117,\n",
       "   119,\n",
       "   121,\n",
       "   124,\n",
       "   125,\n",
       "   127,\n",
       "   128,\n",
       "   132,\n",
       "   133,\n",
       "   134,\n",
       "   138,\n",
       "   140,\n",
       "   141,\n",
       "   142,\n",
       "   143,\n",
       "   144,\n",
       "   145,\n",
       "   181,\n",
       "   221,\n",
       "   242,\n",
       "   246,\n",
       "   253,\n",
       "   280]}]"
      ]
     },
     "execution_count": 177,
     "metadata": {},
     "output_type": "execute_result"
    }
   ],
   "source": [
    "columnasSD=encontrar_valores(combinado, 'SD')\n",
    "columnasSD"
   ]
  },
  {
   "cell_type": "code",
   "execution_count": 178,
   "metadata": {},
   "outputs": [],
   "source": [
    "columna=['HH']\n",
    "combinado=columns_modifier('replace',combinado,columna,'SD',np.nan)"
   ]
  },
  {
   "cell_type": "code",
   "execution_count": 179,
   "metadata": {},
   "outputs": [],
   "source": [
    "columna=['HORA']\n",
    "combinado=columns_modifier('replace',combinado,columna,'SD',np.nan)"
   ]
  },
  {
   "cell_type": "code",
   "execution_count": 180,
   "metadata": {},
   "outputs": [],
   "source": [
    "#Hasta ahora ya no hay valores SD en las columnas HORA Y HH puesto que fueron reemplazados por NaN. Ahora podriamos imputar estos valores. \n",
    "\n",
    "def convertir_hora(decimal_hora):\n",
    "    # Extraer la parte entera y decimal de la hora\n",
    "    horas_enteras = int(decimal_hora)\n",
    "    minutos_decimales = (decimal_hora - horas_enteras) * 60\n",
    "\n",
    "    # Formatear como cadena de tiempo (HH:MM)\n",
    "    hora_formateada = f\"{horas_enteras:02d}:{int(minutos_decimales):02d}\"\n",
    "\n",
    "    return hora_formateada"
   ]
  },
  {
   "cell_type": "code",
   "execution_count": 181,
   "metadata": {},
   "outputs": [
    {
     "name": "stderr",
     "output_type": "stream",
     "text": [
      "C:\\Users\\Manuel\\AppData\\Local\\Temp\\ipykernel_18316\\1850273448.py:2: FutureWarning: Downcasting object dtype arrays on .fillna, .ffill, .bfill is deprecated and will change in a future version. Call result.infer_objects(copy=False) instead. To opt-in to the future behavior, set `pd.set_option('future.no_silent_downcasting', True)`\n",
      "  combinado['HH']=combinado['HH'].fillna(combinado['HH'].mean()).apply(int)\n"
     ]
    }
   ],
   "source": [
    "combinado['HORA']=combinado['HORA'].fillna(convertir_hora(combinado['HH'].mean()))\n",
    "combinado['HH']=combinado['HH'].fillna(combinado['HH'].mean()).apply(int)"
   ]
  },
  {
   "cell_type": "code",
   "execution_count": 182,
   "metadata": {},
   "outputs": [
    {
     "data": {
      "text/plain": [
       "ID                                                    2019-0080\n",
       "N_VICTIMAS                                                    1\n",
       "FECHA                                       2019-09-17 00:00:00\n",
       "AAAA                                                       2019\n",
       "MM                                                            9\n",
       "DD                                                           17\n",
       "HORA                                        1900-01-04 18:40:00\n",
       "HH                                                           18\n",
       "LUGAR_DEL_HECHO                    CABILDO AV. y PAZ, GRAL. AV.\n",
       "TIPO_DE_CALLE                                          GRAL PAZ\n",
       "Calle                                               CABILDO AV.\n",
       "Altura                                                      NaN\n",
       "Cruce                                            PAZ, GRAL. AV.\n",
       "Dirección Normalizada              CABILDO AV. y PAZ, GRAL. AV.\n",
       "COMUNA                                                       13\n",
       "XY (CABA)                Point (98817.74986778 110096.31367495)\n",
       "Longitud                                           -58.47617802\n",
       "Latitud                                            -34.53825652\n",
       "PARTICIPANTES                                       PEATON-MOTO\n",
       "ACUSADO                                                    MOTO\n",
       "ROL                                                      PEATON\n",
       "VICTIMA                                                  PEATON\n",
       "SEXO                                                  MASCULINO\n",
       "EDAD                                                         76\n",
       "FECHA_FALLECIMIENTO                         2019-09-17 00:00:00\n",
       "Name: 514, dtype: object"
      ]
     },
     "execution_count": 182,
     "metadata": {},
     "output_type": "execute_result"
    }
   ],
   "source": [
    "#Verificamos si los resultados son correctos.\n",
    "combinado.iloc[514]"
   ]
  },
  {
   "cell_type": "code",
   "execution_count": 183,
   "metadata": {},
   "outputs": [],
   "source": [
    "#Modificamos unos valores que no estan correctamente definidos en Hora\n",
    "combinado.iloc[459, combinado.columns.get_loc('HORA')]=\"07:12:00\"\n",
    "combinado.iloc[457, combinado.columns.get_loc('HORA')]=\"00:00:00\"\n",
    "combinado.iloc[514, combinado.columns.get_loc('HORA')]=\"18:40:00\""
   ]
  },
  {
   "cell_type": "code",
   "execution_count": 184,
   "metadata": {},
   "outputs": [],
   "source": [
    "combinado=columns_modifier('replace',combinado,['EDAD'],'SD',np.nan)"
   ]
  },
  {
   "cell_type": "code",
   "execution_count": 185,
   "metadata": {},
   "outputs": [],
   "source": [
    "combinado.iloc[459, combinado.columns.get_loc('HORA')]=\"07:12:00\""
   ]
  },
  {
   "cell_type": "code",
   "execution_count": 186,
   "metadata": {},
   "outputs": [],
   "source": [
    "combinado.to_csv('Para_dashboard/Datos_homicidios.csv', index=False)"
   ]
  },
  {
   "cell_type": "markdown",
   "metadata": {},
   "source": [
    "# Relacion AAAA - N_VICTIMAS"
   ]
  },
  {
   "cell_type": "code",
   "execution_count": 187,
   "metadata": {},
   "outputs": [
    {
     "data": {
      "text/plain": [
       "<Axes: xlabel='AAAA'>"
      ]
     },
     "execution_count": 187,
     "metadata": {},
     "output_type": "execute_result"
    },
    {
     "data": {
      "image/png": "[encoded data removed]",
      "text/plain": [
       "<Figure size 640x480 with 1 Axes>"
      ]
     },
     "metadata": {},
     "output_type": "display_data"
    }
   ],
   "source": [
    "victimas_por_fecha = combinado.groupby('AAAA')['N_VICTIMAS'].count().reset_index()\n",
    "victimas_por_fecha=victimas_por_fecha.set_index('AAAA')\n",
    "victimas_por_fecha.plot()"
   ]
  },
  {
   "cell_type": "markdown",
   "metadata": {},
   "source": [
    "se observa un minimo relativo en el año 2020 lo que se le podria abjudicar al aislamiento producido por la pandemia de covid 19 sin embargo la tendencia bajista parece provenir de años anteriores a la pandemia alcanzandose el minimo en el 2020"
   ]
  },
  {
   "cell_type": "markdown",
   "metadata": {},
   "source": [
    "# Relacion COMUNA - N_VICTIMAS"
   ]
  },
  {
   "cell_type": "code",
   "execution_count": 188,
   "metadata": {},
   "outputs": [
    {
     "data": {
      "image/png": "[encoded data removed]",
      "text/plain": [
       "<Figure size 1200x600 with 1 Axes>"
      ]
     },
     "metadata": {},
     "output_type": "display_data"
    }
   ],
   "source": [
    "victimas_por_comuna = combinado.groupby('COMUNA')['N_VICTIMAS'].sum().reset_index()\n",
    "plt.figure(figsize=(12, 6))\n",
    "plt.bar(victimas_por_comuna['COMUNA'], victimas_por_comuna['N_VICTIMAS'], color='blue')\n",
    "plt.title('Número de Víctimas por Comuna')\n",
    "plt.xlabel('Comuna')\n",
    "plt.ylabel('Número de Víctimas')\n",
    "plt.show()"
   ]
  },
  {
   "cell_type": "markdown",
   "metadata": {},
   "source": [
    "Se observa la comuna 1 como la que tiene la mayor cantidad de victimas. Le siguen la 4 y 9."
   ]
  },
  {
   "cell_type": "markdown",
   "metadata": {},
   "source": [
    "# Relacion SEXO-N_VICTIMAS"
   ]
  },
  {
   "cell_type": "code",
   "execution_count": 189,
   "metadata": {},
   "outputs": [
    {
     "data": {
      "image/png": "[encoded data removed]",
      "text/plain": [
       "<Figure size 1000x500 with 1 Axes>"
      ]
     },
     "metadata": {},
     "output_type": "display_data"
    }
   ],
   "source": [
    "victimas_por_sexo = combinado.groupby('SEXO')['VICTIMA'].count().reset_index()\n",
    "\n",
    "\n",
    "plt.figure(figsize=(10, 5))  \n",
    "plt.bar(victimas_por_sexo['SEXO'], victimas_por_sexo['VICTIMA'], color='blue')\n",
    "plt.title('Relación entre el Sexo de las Víctimas y el Número de Víctimas')\n",
    "plt.xlabel('Sexo')\n",
    "plt.ylabel('Número de Víctimas')\n",
    "plt.grid(axis='y')\n",
    "\n",
    "\n",
    "plt.show()"
   ]
  },
  {
   "cell_type": "markdown",
   "metadata": {},
   "source": [
    "Se puede ver que la mayoria de muertes por accidentes de transito son de hombres"
   ]
  },
  {
   "cell_type": "markdown",
   "metadata": {},
   "source": [
    "# Frecuencia de ocurrencia de los valores de la columna EDAD"
   ]
  },
  {
   "cell_type": "code",
   "execution_count": 190,
   "metadata": {},
   "outputs": [
    {
     "name": "stderr",
     "output_type": "stream",
     "text": [
      "c:\\Users\\Manuel\\AppData\\Local\\Programs\\Python\\Python312\\Lib\\site-packages\\numpy\\lib\\histograms.py:825: RuntimeWarning: invalid value encountered in greater_equal\n",
      "  keep = (tmp_a >= first_edge)\n",
      "c:\\Users\\Manuel\\AppData\\Local\\Programs\\Python\\Python312\\Lib\\site-packages\\numpy\\lib\\histograms.py:826: RuntimeWarning: invalid value encountered in less_equal\n",
      "  keep &= (tmp_a <= last_edge)\n"
     ]
    },
    {
     "data": {
      "image/png": "[encoded data removed]",
      "text/plain": [
       "<Figure size 800x600 with 1 Axes>"
      ]
     },
     "metadata": {},
     "output_type": "display_data"
    }
   ],
   "source": [
    "plt.figure(figsize=(8, 6))\n",
    "plt.hist(combinado['EDAD'], bins=20, color='blue', edgecolor='black')\n",
    "plt.title('Distribución de Edades de las Víctimas')\n",
    "plt.xlabel('Edad')\n",
    "plt.ylabel('Frecuencia')\n",
    "plt.grid(axis='y')\n",
    "plt.show()"
   ]
  },
  {
   "cell_type": "markdown",
   "metadata": {},
   "source": [
    "Se oberseva que el rango de edades entre los 20 y 40 años son los mas afectados pero esto puede deberse a que estas son las edades donde hay mas conductores activos, sin embargo el pico cercano a los 30 puede deberse a otras razones."
   ]
  },
  {
   "cell_type": "markdown",
   "metadata": {},
   "source": [
    "# Relacion TIPO_DE_CALLE - NUMERO DE VICTIMAS"
   ]
  },
  {
   "cell_type": "code",
   "execution_count": 191,
   "metadata": {},
   "outputs": [
    {
     "data": {
      "image/png": "[encoded data removed]",
      "text/plain": [
       "<Figure size 1000x600 with 1 Axes>"
      ]
     },
     "metadata": {},
     "output_type": "display_data"
    }
   ],
   "source": [
    "plt.figure(figsize=(10, 6))\n",
    "combinado['TIPO_DE_CALLE'].value_counts().plot(kind='bar', color='blue')\n",
    "plt.title('Frecuencia de Tipos de Calle')\n",
    "plt.xlabel('Tipo de Calle')\n",
    "plt.ylabel('Frecuencia')\n",
    "plt.xticks(rotation=45)\n",
    "plt.grid(axis='y')\n",
    "plt.show()"
   ]
  },
  {
   "cell_type": "markdown",
   "metadata": {},
   "source": [
    "En las AVENIDA se dan la mayor cantidad de accidentes esto puede deberse a que las caracteristicas de esta categoria como su liminite de velocidad y amplitud presentan un ambiente optimo para la ocurrencia de siniestros viales"
   ]
  },
  {
   "cell_type": "markdown",
   "metadata": {},
   "source": [
    "# Relacion MM - N_VICTIMAS"
   ]
  },
  {
   "cell_type": "code",
   "execution_count": 192,
   "metadata": {},
   "outputs": [
    {
     "data": {
      "image/png": "[encoded data removed]",
      "text/plain": [
       "<Figure size 1000x600 with 1 Axes>"
      ]
     },
     "metadata": {},
     "output_type": "display_data"
    }
   ],
   "source": [
    "plt.figure(figsize=(10, 6))\n",
    "combinado.groupby('MM')['N_VICTIMAS'].sum().plot(kind='bar',color='blue')\n",
    "plt.title('Cantidad de Siniestros por Mes')\n",
    "plt.xlabel('Mes')\n",
    "plt.ylabel('Cantidad de Siniestros')\n",
    "plt.xticks(rotation=0)\n",
    "plt.grid(axis='y')\n",
    "plt.show()"
   ]
  },
  {
   "cell_type": "markdown",
   "metadata": {},
   "source": [
    "Se observa que el mes 12  contiene la mayor cantidad de homicidios. Esto se puede deber a la cantidad de visitantes en la ciudad porque coincide con festividades"
   ]
  }
 ],
 "metadata": {
  "kernelspec": {
   "display_name": "Python 3",
   "language": "python",
   "name": "python3"
  },
  "language_info": {
   "codemirror_mode": {
    "name": "ipython",
    "version": 3
   },
   "file_extension": ".py",
   "mimetype": "text/x-python",
   "name": "python",
   "nbconvert_exporter": "python",
   "pygments_lexer": "ipython3",
   "version": "3.12.2"
  }
 },
 "nbformat": 4,
 "nbformat_minor": 2
}
